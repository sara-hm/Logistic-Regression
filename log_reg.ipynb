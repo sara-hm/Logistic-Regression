{
 "cells": [
  {
   "cell_type": "markdown",
   "id": "834eed3a",
   "metadata": {},
   "source": [
    "## Task 1"
   ]
  },
  {
   "cell_type": "code",
   "execution_count": null,
   "id": "7a39d443",
   "metadata": {},
   "outputs": [],
   "source": [
    "# Importing Pandas and NumPy\n",
    "import pandas as pd\n",
    "import numpy as np\n",
    "import seaborn as sns\n",
    "import matplotlib.pyplot as plt"
   ]
  },
  {
   "cell_type": "code",
   "execution_count": null,
   "id": "af0e967f",
   "metadata": {},
   "outputs": [],
   "source": [
    "# Reading the txt file and putting it into 'df' object.\n",
    "df = pd.read_csv('data_banknote_authentication.txt', header=None, names=[\"Variance\", \"Skewness\", \"Kurtosis\", \"Entropy\", \"Class\"])"
   ]
  },
  {
   "cell_type": "code",
   "execution_count": null,
   "id": "3048a69c",
   "metadata": {},
   "outputs": [],
   "source": [
    "df.head()"
   ]
  },
  {
   "cell_type": "code",
   "execution_count": null,
   "id": "75665bb4",
   "metadata": {},
   "outputs": [],
   "source": [
    "df.shape"
   ]
  },
  {
   "cell_type": "code",
   "execution_count": null,
   "id": "e8f83b2e",
   "metadata": {
    "scrolled": true
   },
   "outputs": [],
   "source": [
    "df.info()"
   ]
  },
  {
   "cell_type": "code",
   "execution_count": null,
   "id": "ac55e272",
   "metadata": {},
   "outputs": [],
   "source": [
    "df.isnull().sum()"
   ]
  },
  {
   "cell_type": "code",
   "execution_count": null,
   "id": "072763f0",
   "metadata": {},
   "outputs": [],
   "source": [
    "df.describe()"
   ]
  },
  {
   "cell_type": "code",
   "execution_count": null,
   "id": "bdf3be6e",
   "metadata": {},
   "outputs": [],
   "source": [
    "df['Class'].value_counts()"
   ]
  },
  {
   "cell_type": "code",
   "execution_count": null,
   "id": "9093c59d",
   "metadata": {},
   "outputs": [],
   "source": [
    "df['Class'].value_counts().plot.bar()"
   ]
  },
  {
   "cell_type": "code",
   "execution_count": null,
   "id": "2a635037",
   "metadata": {},
   "outputs": [],
   "source": [
    "sns.pairplot(df, hue = \"Class\")"
   ]
  },
  {
   "cell_type": "code",
   "execution_count": null,
   "id": "a5c3cd20",
   "metadata": {},
   "outputs": [],
   "source": [
    "import statsmodels.api as sm   \n",
    "\n",
    "# UDF for calculating vif value\n",
    "def vif_cal(input_data, dependent_col):\n",
    "    vif_df = pd.DataFrame( columns = ['Var', 'Vif'])\n",
    "    x_vars=input_data.drop([dependent_col], axis=1)\n",
    "    xvar_names=x_vars.columns\n",
    "    for i in range(0,xvar_names.shape[0]):\n",
    "        y=x_vars[xvar_names[i]] \n",
    "        x=x_vars[xvar_names.drop(xvar_names[i])]\n",
    "        rsq=sm.OLS(y,x).fit().rsquared \n",
    "        vif=round(1/(1-rsq),2)\n",
    "        vif_df.loc[i] = [xvar_names[i], vif]\n",
    "    return vif_df.sort_values(by = 'Vif', axis=0, ascending=False, inplace=False)"
   ]
  },
  {
   "cell_type": "code",
   "execution_count": null,
   "id": "dd862ef2",
   "metadata": {},
   "outputs": [],
   "source": [
    "# Calculating Vif value\n",
    "vif_cal(input_data=df, dependent_col=\"Class\")"
   ]
  },
  {
   "cell_type": "raw",
   "id": "4fba07aa",
   "metadata": {},
   "source": [
    "As VIF<=4, there is no multicollinearity"
   ]
  },
  {
   "cell_type": "markdown",
   "id": "11265a43",
   "metadata": {},
   "source": [
    "## Task 2"
   ]
  },
  {
   "cell_type": "code",
   "execution_count": null,
   "id": "6f55fc7e",
   "metadata": {},
   "outputs": [],
   "source": [
    "# Putting feature variable to X\n",
    "X = df.drop('Class',axis=1)\n",
    "\n",
    "# Putting response variable to y\n",
    "y = df['Class']"
   ]
  },
  {
   "cell_type": "code",
   "execution_count": null,
   "id": "3a35ef52",
   "metadata": {},
   "outputs": [],
   "source": [
    "# Feature normalization\n",
    "from sklearn.preprocessing import MinMaxScaler \n",
    "\n",
    "scaler = MinMaxScaler()\n",
    "scaler.fit(X)\n",
    "X = scaler.transform(X)\n",
    "X = pd.DataFrame(X)"
   ]
  },
  {
   "cell_type": "code",
   "execution_count": null,
   "id": "15ff03e4",
   "metadata": {},
   "outputs": [],
   "source": [
    "X.head()"
   ]
  },
  {
   "cell_type": "markdown",
   "id": "2e4b6542",
   "metadata": {},
   "source": [
    "## Task 4"
   ]
  },
  {
   "cell_type": "code",
   "execution_count": null,
   "id": "b96ec738",
   "metadata": {},
   "outputs": [],
   "source": [
    "# Split the dataset into train (70%) and test (30%)\n",
    "from sklearn.model_selection import train_test_split\n",
    "\n",
    "X_train,X_test,y_train,y_test = train_test_split(X,y,test_size = 0.3,random_state = 12)"
   ]
  },
  {
   "cell_type": "code",
   "execution_count": null,
   "id": "6108bae6",
   "metadata": {},
   "outputs": [],
   "source": [
    "df.shape"
   ]
  },
  {
   "cell_type": "code",
   "execution_count": null,
   "id": "279ba3d8",
   "metadata": {},
   "outputs": [],
   "source": [
    "print(\"X_train shape:\", X_train.shape)\n",
    "print(\"X_test shape:\", X_test.shape)\n",
    "print(\"y_train shape:\", y_train.shape)\n",
    "print(\"y_test shape:\", y_test.shape)"
   ]
  },
  {
   "cell_type": "markdown",
   "id": "c01e9209",
   "metadata": {},
   "source": [
    "## Task 5"
   ]
  },
  {
   "cell_type": "raw",
   "id": "c5960a25",
   "metadata": {},
   "source": [
    "Check accuracy of model with default hyperparameters:"
   ]
  },
  {
   "cell_type": "code",
   "execution_count": null,
   "id": "eee15bdc",
   "metadata": {},
   "outputs": [],
   "source": [
    "from sklearn.linear_model import SGDClassifier\n",
    "from sklearn.metrics import accuracy_score,classification_report,confusion_matrix, ConfusionMatrixDisplay\n",
    "\n",
    "# Create a model with default hyperparameters\n",
    "clf_default = SGDClassifier(loss=\"log\", random_state = 777)\n",
    "clf_default.fit(X_train, y_train)"
   ]
  },
  {
   "cell_type": "code",
   "execution_count": null,
   "id": "062457d1",
   "metadata": {},
   "outputs": [],
   "source": [
    "# Evaluation of model with default hyperparameters\n",
    "y_train_predict_default = clf_default.predict(X_train)\n",
    "y_test_predict_default = clf_default.predict(X_test)\n",
    "\n",
    "print(\"Train dataset accuracy score using default parameters:\", round(accuracy_score(y_train,y_train_predict_default),3))\n",
    "print(\"Test dataset accuracy score using default parameters:\", round(accuracy_score(y_test,y_test_predict_default),3))\n",
    "\n",
    "print(\"\\nClassification report for test dataset:\\n\", classification_report(y_test,y_test_predict_default))"
   ]
  },
  {
   "cell_type": "code",
   "execution_count": null,
   "id": "313a2771",
   "metadata": {},
   "outputs": [],
   "source": [
    "# Confusion matrix\n",
    "\n",
    "# Train dataset\n",
    "cmd_obj_train_default = ConfusionMatrixDisplay(confusion_matrix(y_train,y_train_predict_default), display_labels=['0\\n(Genuine)', '1\\n(Forged)'])\n",
    "cmd_obj_train_default.plot(cmap=\"Blues\")\n",
    "cmd_obj_train_default.ax_.set(\n",
    "                title=\"Train dataset confusion_matrix using default parameters\\n\", \n",
    "                xlabel=\"Predicted class\", \n",
    "                ylabel=\"Actual class\")\n",
    "\n",
    "# Test dataset\n",
    "cmd_obj_test_default = ConfusionMatrixDisplay(confusion_matrix(y_test,y_test_predict_default), display_labels=['0\\n(Genuine)', '1\\n(Forged)'])\n",
    "cmd_obj_test_default.plot(cmap=\"Blues\")\n",
    "cmd_obj_test_default.ax_.set(\n",
    "                title=\"Test dataset confusion_matrix using default parameters\\n\", \n",
    "                xlabel=\"Predicted class\", \n",
    "                ylabel=\"Actual class\")\n",
    "\n",
    "plt.show()"
   ]
  },
  {
   "cell_type": "raw",
   "id": "574f9a3d",
   "metadata": {},
   "source": [
    "Optimizing hyperparameters:"
   ]
  },
  {
   "cell_type": "code",
   "execution_count": null,
   "id": "39f3df1f",
   "metadata": {},
   "outputs": [],
   "source": [
    "# GridSearchCV to find optimal 'learning rate'\n",
    "from sklearn.model_selection import GridSearchCV\n",
    "\n",
    "# parameters to build the model on\n",
    "lr_parameters = {'learning_rate': ['constant','optimal','invscaling','adaptive']}  # default='optimal'\n",
    "\n",
    "# instantiate the model\n",
    "clf_lr = SGDClassifier(loss=\"log\", random_state = 777, eta0 = 0.001)  # eta0 is the initial learning rate for the ‘constant’, ‘invscaling’ or ‘adaptive’ schedules\n",
    "\n",
    "# fit clf on training data\n",
    "clf_lr = GridSearchCV(estimator = clf_lr, param_grid = lr_parameters,\n",
    "                   scoring=\"accuracy\", return_train_score=True)\n",
    "clf_lr.fit(X_train, y_train)"
   ]
  },
  {
   "cell_type": "code",
   "execution_count": null,
   "id": "38fb53eb",
   "metadata": {},
   "outputs": [],
   "source": [
    "# printing the optimal accuracy score and hyperparameters\n",
    "print('We can get accuracy of',clf_lr.best_score_,'using',clf_lr.best_params_)"
   ]
  },
  {
   "cell_type": "code",
   "execution_count": null,
   "id": "dc6675f8",
   "metadata": {},
   "outputs": [],
   "source": [
    "# plotting accuracies with learning rate\n",
    "\n",
    "lr_scores = clf_lr.cv_results_\n",
    "\n",
    "plotdata = pd.DataFrame({\n",
    "    \"training accuracy\": lr_scores[\"mean_train_score\"],\n",
    "    \"test accuracy\": lr_scores[\"mean_test_score\"]},\n",
    "    index=lr_scores[\"param_learning_rate\"])\n",
    "\n",
    "plotdata.plot(kind=\"bar\",figsize=(8, 5))\n",
    "\n",
    "plt.xlabel(\"Learning Rate\")\n",
    "plt.ylabel(\"Accuracy\")\n",
    "\n",
    "plt.show()"
   ]
  },
  {
   "cell_type": "code",
   "execution_count": null,
   "id": "cf6c58ae",
   "metadata": {},
   "outputs": [],
   "source": [
    "# GridSearchCV to find optimal 'alpha', 'max_iter' and 'tol' using 'learning_rate' = optimal\n",
    "from sklearn.model_selection import GridSearchCV\n",
    "\n",
    "# Create the parameter grid based on the results of random search \n",
    "param_grid = {\n",
    "    'alpha': np.arange(0.00001, 0.0002, 0.00005),  # default = 0.0001 np.arange(0.000001,0.0002,0.000005)\n",
    "    'max_iter': range(100, 2000, 100),  # default = 1000\n",
    "    'tol': [1e-7, 1e-6, 1e-5, 1e-4, 1e-3, 1e-2, 1e-1],  #  default = 1e-3\n",
    "}\n",
    "\n",
    "# Create a base model\n",
    "clf_base = SGDClassifier(loss=\"log\", learning_rate = \"optimal\", random_state = 777)\n",
    "\n",
    "# Instantiate the grid search model\n",
    "clf_base = GridSearchCV(estimator = clf_base, param_grid = param_grid, scoring=\"accuracy\", error_score='raise')"
   ]
  },
  {
   "cell_type": "code",
   "execution_count": null,
   "id": "f9a8185a",
   "metadata": {},
   "outputs": [],
   "source": [
    "# Fit the grid search to the data\n",
    "clf_base.fit(X_train, y_train)"
   ]
  },
  {
   "cell_type": "code",
   "execution_count": null,
   "id": "283247ec",
   "metadata": {},
   "outputs": [],
   "source": [
    "# printing the optimal accuracy score and hyperparameters\n",
    "print('We can get accuracy of',clf_base.best_score_,'using',clf_base.best_params_)"
   ]
  },
  {
   "cell_type": "code",
   "execution_count": null,
   "id": "bb836077",
   "metadata": {},
   "outputs": [],
   "source": [
    "# Building the model with optimized hyperparameters obtained above\n",
    "clf_best = SGDClassifier(loss=\"log\",\n",
    "                         alpha = 1e-05,\n",
    "                         learning_rate = 'optimal',\n",
    "                         tol = 0.001, \n",
    "                         max_iter = 100,\n",
    "                         random_state = 777)\n",
    "\n",
    "clf_best.fit(X_train, y_train)"
   ]
  },
  {
   "cell_type": "code",
   "execution_count": null,
   "id": "dd3ee14b",
   "metadata": {},
   "outputs": [],
   "source": [
    "# Evaluation of model with optimized hyperparameters\n",
    "y_train_predict_best = clf_best.predict(X_train)\n",
    "y_test_predict_best = clf_best.predict(X_test)\n",
    "\n",
    "print(\"Train dataset accuracy score using optimized parameters:\", round(accuracy_score(y_train,y_train_predict_best),3))\n",
    "print(\"Test dataset accuracy score using optimized parameters:\", round(accuracy_score(y_test,y_test_predict_best),3))"
   ]
  },
  {
   "cell_type": "code",
   "execution_count": null,
   "id": "e72b1f8c",
   "metadata": {},
   "outputs": [],
   "source": [
    "# Confusion matrix \n",
    "\n",
    "# Train dataset\n",
    "cmd_obj_train_best = ConfusionMatrixDisplay(confusion_matrix(y_train,y_train_predict_best), display_labels=['0\\n(Genuine)', '1\\n(Forged)'])\n",
    "cmd_obj_train_best.plot(cmap=\"Blues\")\n",
    "cmd_obj_train_best.ax_.set(\n",
    "                title=\"Train dataset confusion_matrix using optimized parameters\\n\", \n",
    "                xlabel=\"Predicted class\", \n",
    "                ylabel=\"Actual class\")\n",
    "\n",
    "# Test dataset\n",
    "cmd_obj_test_best = ConfusionMatrixDisplay(confusion_matrix(y_test,y_test_predict_best), display_labels=['0\\n(Genuine)', '1\\n(Forged)'])\n",
    "cmd_obj_test_best.plot(cmap=\"Blues\")\n",
    "cmd_obj_test_best.ax_.set(\n",
    "                title=\"Test dataset confusion_matrix using optimized parameters\\n\", \n",
    "                xlabel=\"Predicted class\", \n",
    "                ylabel=\"Actual class\")\n",
    "\n",
    "plt.show()"
   ]
  },
  {
   "cell_type": "markdown",
   "id": "5451f817",
   "metadata": {},
   "source": [
    "## Task 6"
   ]
  },
  {
   "cell_type": "code",
   "execution_count": null,
   "id": "2e1c0d2a",
   "metadata": {},
   "outputs": [],
   "source": [
    "# Classification report for model using optimized hyperparameters\n",
    "\n",
    "print(\"Classification report for test dataset:\\n\", classification_report(y_test,y_test_predict_best))"
   ]
  },
  {
   "cell_type": "markdown",
   "id": "34c583f3",
   "metadata": {},
   "source": [
    "## Task 7"
   ]
  },
  {
   "cell_type": "code",
   "execution_count": null,
   "id": "6a31641b",
   "metadata": {},
   "outputs": [],
   "source": [
    "# Building the model with optimized hyperparameters and penalty = 'l2'\n",
    "# Note: default hyperparameter is 'l2'. Therefore the following results will be same as above\n",
    "clf_l2 = SGDClassifier(loss=\"log\",\n",
    "                       alpha = 1e-05,\n",
    "                       learning_rate = 'optimal',\n",
    "                       tol = 0.001,\n",
    "                       max_iter = 100,\n",
    "                       random_state = 777,\n",
    "                       penalty = 'l2')\n",
    "\n",
    "clf_l2.fit(X_train, y_train)"
   ]
  },
  {
   "cell_type": "code",
   "execution_count": null,
   "id": "1a06c0bd",
   "metadata": {},
   "outputs": [],
   "source": [
    "# Evaluation of model with optimized hyperparameters and penalty = 'l2'\n",
    "y_train_predict_l2 = clf_l2.predict(X_train)\n",
    "y_test_predict_l2 = clf_l2.predict(X_test)\n",
    "\n",
    "print(\"Train dataset accuracy score using penalty = 'l2':\", round(accuracy_score(y_train,y_train_predict_l2),3))\n",
    "print(\"Test dataset accuracy score using penalty = 'l2':\", round(accuracy_score(y_test,y_test_predict_l2),3))"
   ]
  },
  {
   "cell_type": "code",
   "execution_count": null,
   "id": "a9495a19",
   "metadata": {},
   "outputs": [],
   "source": [
    "# Confusion matrix \n",
    "\n",
    "# Train dataset\n",
    "cmd_obj_train_best = ConfusionMatrixDisplay(confusion_matrix(y_train,y_train_predict_l2), display_labels=['0\\n(Genuine)', '1\\n(Forged)'])\n",
    "cmd_obj_train_best.plot(cmap=\"Blues\")\n",
    "cmd_obj_train_best.ax_.set(\n",
    "                title=\"Train dataset confusion_matrix using penalty = 'l2'\", \n",
    "                xlabel=\"Predicted class\", \n",
    "                ylabel=\"Actual class\")\n",
    "\n",
    "# Test dataset\n",
    "cmd_obj_test_best = ConfusionMatrixDisplay(confusion_matrix(y_test,y_test_predict_l2), display_labels=['0\\n(Genuine)', '1\\n(Forged)'])\n",
    "cmd_obj_test_best.plot(cmap=\"Blues\")\n",
    "cmd_obj_test_best.ax_.set(\n",
    "                title=\"Test dataset confusion_matrix using penalty = 'l2'\", \n",
    "                xlabel=\"Predicted class\", \n",
    "                ylabel=\"Actual class\")\n",
    "\n",
    "plt.show()"
   ]
  },
  {
   "cell_type": "code",
   "execution_count": null,
   "id": "3fe2e306",
   "metadata": {},
   "outputs": [],
   "source": [
    "# Building the model with optimized hyperparameters and penalty = 'l1'\n",
    "clf_l1 = SGDClassifier(loss=\"log\",\n",
    "                         alpha = 1e-05,\n",
    "                         learning_rate = 'optimal',\n",
    "                         tol = 0.001, \n",
    "                         max_iter = 100,\n",
    "                         penalty = 'l1',\n",
    "                         random_state = 777)\n",
    "\n",
    "clf_l1.fit(X_train, y_train)"
   ]
  },
  {
   "cell_type": "code",
   "execution_count": null,
   "id": "2708e1cf",
   "metadata": {},
   "outputs": [],
   "source": [
    "# Evaluation of model with optimized hyperparameters and penalty = 'l1'\n",
    "y_train_predict_l1 = clf_l1.predict(X_train)\n",
    "y_test_predict_l1 = clf_l1.predict(X_test)\n",
    "\n",
    "print(\"Train dataset accuracy score using penalty = 'l1':\", round(accuracy_score(y_train,y_train_predict_l1),3))\n",
    "print(\"Test dataset accuracy score using penalty = 'l1':\", round(accuracy_score(y_test,y_test_predict_l1),3))"
   ]
  },
  {
   "cell_type": "code",
   "execution_count": null,
   "id": "c92912a9",
   "metadata": {},
   "outputs": [],
   "source": [
    "# Confusion matrix \n",
    "\n",
    "# Train dataset\n",
    "cmd_obj_train_best = ConfusionMatrixDisplay(confusion_matrix(y_train,y_train_predict_l1), display_labels=['0\\n(Genuine)', '1\\n(Forged)'])\n",
    "cmd_obj_train_best.plot(cmap=\"Blues\")\n",
    "cmd_obj_train_best.ax_.set(\n",
    "                title=\"Train dataset confusion_matrix using penalty = 'l1'\", \n",
    "                xlabel=\"Predicted class\", \n",
    "                ylabel=\"Actual class\")\n",
    "\n",
    "# Test dataset\n",
    "cmd_obj_test_best = ConfusionMatrixDisplay(confusion_matrix(y_test,y_test_predict_l1), display_labels=['0\\n(Genuine)', '1\\n(Forged)'])\n",
    "cmd_obj_test_best.plot(cmap=\"Blues\")\n",
    "cmd_obj_test_best.ax_.set(\n",
    "                title=\"Test dataset confusion_matrix using penalty = 'l1'\", \n",
    "                xlabel=\"Predicted class\", \n",
    "                ylabel=\"Actual class\")\n",
    "\n",
    "plt.show()"
   ]
  },
  {
   "cell_type": "code",
   "execution_count": null,
   "id": "57b54037",
   "metadata": {},
   "outputs": [],
   "source": [
    "# Building the model with optimized hyperparameters and penalty = 'elasticnet'\n",
    "clf_elasticnet = SGDClassifier(loss=\"log\",\n",
    "                         alpha = 1e-05,\n",
    "                         learning_rate = 'optimal',\n",
    "                         tol = 0.001, \n",
    "                         max_iter = 100,\n",
    "                         penalty = 'elasticnet',\n",
    "                         random_state = 777)\n",
    "\n",
    "clf_elasticnet.fit(X_train, y_train)"
   ]
  },
  {
   "cell_type": "code",
   "execution_count": null,
   "id": "1571844f",
   "metadata": {},
   "outputs": [],
   "source": [
    "# Evaluation of model with optimized hyperparameters and penalty = 'elasticnet'\n",
    "y_train_predict_elasticnet = clf_elasticnet.predict(X_train)\n",
    "y_test_predict_elasticnet = clf_elasticnet.predict(X_test)\n",
    "\n",
    "print(\"Train dataset accuracy score using penalty = 'elasticnet':\", round(accuracy_score(y_train,y_train_predict_elasticnet),3))\n",
    "print(\"Test dataset accuracy score using penalty = 'elasticnet':\", round(accuracy_score(y_test,y_test_predict_elasticnet),3))"
   ]
  },
  {
   "cell_type": "code",
   "execution_count": null,
   "id": "ebdb12db",
   "metadata": {},
   "outputs": [],
   "source": [
    "# Confusion matrix \n",
    "\n",
    "# Train dataset\n",
    "cmd_obj_train_best = ConfusionMatrixDisplay(confusion_matrix(y_train,y_train_predict_elasticnet), display_labels=['0\\n(Genuine)', '1\\n(Forged)'])\n",
    "cmd_obj_train_best.plot(cmap=\"Blues\")\n",
    "cmd_obj_train_best.ax_.set(\n",
    "                title=\"Train dataset confusion_matrix using penalty = 'elasticnet'\", \n",
    "                xlabel=\"Predicted class\", \n",
    "                ylabel=\"Actual class\")\n",
    "\n",
    "# Test dataset\n",
    "cmd_obj_test_best = ConfusionMatrixDisplay(confusion_matrix(y_test,y_test_predict_elasticnet), display_labels=['0\\n(Genuine)', '1\\n(Forged)'])\n",
    "cmd_obj_test_best.plot(cmap=\"Blues\")\n",
    "cmd_obj_test_best.ax_.set(\n",
    "                title=\"Test dataset confusion_matrix using penalty = 'elasticnet'\", \n",
    "                xlabel=\"Predicted class\", \n",
    "                ylabel=\"Actual class\")\n",
    "\n",
    "plt.show()"
   ]
  },
  {
   "cell_type": "markdown",
   "id": "4fdc4e11",
   "metadata": {},
   "source": [
    "## Task 8"
   ]
  },
  {
   "cell_type": "code",
   "execution_count": null,
   "id": "a4383e8a",
   "metadata": {},
   "outputs": [],
   "source": [
    "# Classification report for test dataset using penalty = 'l2'\n",
    "\n",
    "print(\"Classification report for test dataset:\\n\", classification_report(y_test,y_test_predict_l2))"
   ]
  },
  {
   "cell_type": "code",
   "execution_count": null,
   "id": "bea271be",
   "metadata": {},
   "outputs": [],
   "source": [
    "# Classification report for test dataset using penalty = 'l1'\n",
    "\n",
    "print(\"Classification report for test dataset:\\n\", classification_report(y_test,y_test_predict_l1))"
   ]
  },
  {
   "cell_type": "code",
   "execution_count": null,
   "id": "2c4755c2",
   "metadata": {},
   "outputs": [],
   "source": [
    "# Classification report for test dataset using penalty = 'elasticnet'\n",
    "\n",
    "print(\"Classification report for test dataset:\\n\", classification_report(y_test,y_test_predict_elasticnet))"
   ]
  },
  {
   "cell_type": "markdown",
   "id": "eb7131ae",
   "metadata": {},
   "source": [
    "## Task 9"
   ]
  },
  {
   "cell_type": "code",
   "execution_count": null,
   "id": "839e18a7",
   "metadata": {},
   "outputs": [],
   "source": [
    "# Building KNN model with default hyperparameters\n",
    "from sklearn.neighbors import KNeighborsClassifier\n",
    "\n",
    "knn = KNeighborsClassifier()  "
   ]
  },
  {
   "cell_type": "code",
   "execution_count": null,
   "id": "c3bf4778",
   "metadata": {},
   "outputs": [],
   "source": [
    "knn.fit(X_train, y_train)"
   ]
  },
  {
   "cell_type": "code",
   "execution_count": null,
   "id": "84120a96",
   "metadata": {},
   "outputs": [],
   "source": [
    "# Evaluation of KNN model\n",
    "y_train_predict_knn = knn.predict(X_train)\n",
    "y_test_predict_knn = knn.predict(X_test)\n",
    "\n",
    "print(\"Train dataset accuracy score using KNN model:\", round(accuracy_score(y_train,y_train_predict_knn),3))\n",
    "print(\"Test dataset accuracy score using KNN model:\", round(accuracy_score(y_test,y_test_predict_knn),3))"
   ]
  },
  {
   "cell_type": "code",
   "execution_count": null,
   "id": "2b10601e",
   "metadata": {},
   "outputs": [],
   "source": [
    "# Confusion matrix of KNN model\n",
    "\n",
    "# Train dataset\n",
    "cmd_obj_train_best = ConfusionMatrixDisplay(confusion_matrix(y_train,y_train_predict_knn), display_labels=['0\\n(Genuine)', '1\\n(Forged)'])\n",
    "cmd_obj_train_best.plot(cmap=\"Blues\")\n",
    "cmd_obj_train_best.ax_.set(\n",
    "                title=\"Train dataset confusion_matrix using KNN\", \n",
    "                xlabel=\"Predicted class\", \n",
    "                ylabel=\"Actual class\")\n",
    "\n",
    "# Test dataset\n",
    "cmd_obj_test_best = ConfusionMatrixDisplay(confusion_matrix(y_test,y_test_predict_knn), display_labels=['0\\n(Genuine)', '1\\n(Forged)'])\n",
    "cmd_obj_test_best.plot(cmap=\"Blues\")\n",
    "cmd_obj_test_best.ax_.set(\n",
    "                title=\"Test dataset confusion_matrix using KNN\", \n",
    "                xlabel=\"Predicted class\", \n",
    "                ylabel=\"Actual class\")\n",
    "\n",
    "plt.show()"
   ]
  },
  {
   "cell_type": "code",
   "execution_count": null,
   "id": "a385d93d",
   "metadata": {},
   "outputs": [],
   "source": [
    "# Classification report for KNN model\n",
    "\n",
    "print(\"Classification report for test dataset:\\n\", classification_report(y_test,y_test_predict_knn))"
   ]
  }
 ],
 "metadata": {
  "kernelspec": {
   "display_name": "Python 3 (ipykernel)",
   "language": "python",
   "name": "python3"
  },
  "language_info": {
   "codemirror_mode": {
    "name": "ipython",
    "version": 3
   },
   "file_extension": ".py",
   "mimetype": "text/x-python",
   "name": "python",
   "nbconvert_exporter": "python",
   "pygments_lexer": "ipython3",
   "version": "3.9.9"
  }
 },
 "nbformat": 4,
 "nbformat_minor": 5
}
